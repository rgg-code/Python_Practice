{
  "nbformat": 4,
  "nbformat_minor": 0,
  "metadata": {
    "colab": {
      "provenance": []
    },
    "kernelspec": {
      "name": "python3",
      "display_name": "Python 3"
    },
    "language_info": {
      "name": "python"
    }
  },
  "cells": [
    {
      "cell_type": "markdown",
      "source": [
        "Practical Questions :\n",
        "Files, exceptional handling, logging and memory management"
      ],
      "metadata": {
        "id": "3Xwec-DFu-mZ"
      }
    },
    {
      "cell_type": "markdown",
      "source": [
        "1. How can you open a file for writing in Python and write a string to it?"
      ],
      "metadata": {
        "id": "1_bBdVcKvaqE"
      }
    },
    {
      "cell_type": "code",
      "execution_count": 2,
      "metadata": {
        "id": "3PK4-eCOu9d7"
      },
      "outputs": [],
      "source": [
        "# Open the file in write mode ('w')\n",
        "with open(\"example.txt\", \"w\") as file:\n",
        "    # Write a string to the file\n",
        "    file.write(\"Hello, world!\")"
      ]
    },
    {
      "cell_type": "markdown",
      "source": [
        "2. Write a Python program to read the contents of a file and print each line."
      ],
      "metadata": {
        "id": "eLRn5ne6vhnW"
      }
    },
    {
      "cell_type": "code",
      "source": [
        "# Open the file in read mode and process it\n",
        "with open(\"example.txt\", \"r\") as file:\n",
        "    # Read and print each line from the file\n",
        "    for line in file:\n",
        "        print(line.strip())\n",
        ""
      ],
      "metadata": {
        "id": "A9WekQvmvk4y",
        "colab": {
          "base_uri": "https://localhost:8080/"
        },
        "outputId": "06c48d04-357b-458e-aadd-7eec87f6d2a2"
      },
      "execution_count": 17,
      "outputs": [
        {
          "output_type": "stream",
          "name": "stdout",
          "text": [
            "Hello, world!\n"
          ]
        }
      ]
    },
    {
      "cell_type": "markdown",
      "source": [
        "3.  How would you handle a case where the file doesn't exist while trying to open it for reading?"
      ],
      "metadata": {
        "id": "-NYZfTarvpz0"
      }
    },
    {
      "cell_type": "code",
      "source": [
        "try:\n",
        "    with open(\"example.txt\", \"r\") as file:\n",
        "        for line in file:\n",
        "            print(line.strip())\n",
        "except FileNotFoundError:\n",
        "    print(\"Error: The file does not exist.\")\n"
      ],
      "metadata": {
        "id": "lRfsThP6vryt",
        "colab": {
          "base_uri": "https://localhost:8080/"
        },
        "outputId": "7f4bbef1-93b7-4188-d443-0e445faad8e2"
      },
      "execution_count": 3,
      "outputs": [
        {
          "output_type": "stream",
          "name": "stdout",
          "text": [
            "Hello, world!\n"
          ]
        }
      ]
    },
    {
      "cell_type": "markdown",
      "source": [
        "4.  Write a Python script that reads from one file and writes its content to another file."
      ],
      "metadata": {
        "id": "xeLM5seQvvgK"
      }
    },
    {
      "cell_type": "code",
      "source": [
        "def copy_file_content(source_file, destination_file):\n",
        "    try:\n",
        "        # Open the source file in read mode and the destination file in write mode\n",
        "        with open(source_file, 'r') as src_file:\n",
        "            content = src_file.read()  # Read the entire content of the source file\n",
        "\n",
        "        with open(destination_file, 'w') as dest_file:\n",
        "            dest_file.write(content)  # Write the content to the destination file\n",
        "\n",
        "        print(f\"Content has been copied from {source_file} to {destination_file}.\")\n",
        "\n",
        "    except FileNotFoundError:\n",
        "        print(f\"Error: The file {source_file} was not found.\")\n",
        "    except IOError as e:\n",
        "        print(f\"Error: An I/O error occurred: {e}\")\n",
        "\n",
        "if __name__ == \"__main__\":\n",
        "    source_file = 'source.txt'  # Replace with your source file path\n",
        "    destination_file = 'destination.txt'  # Replace with your destination file path\n",
        "\n",
        "    copy_file_content(source_file, destination_file)\n",
        ""
      ],
      "metadata": {
        "id": "OVhCOLS3vx1N",
        "colab": {
          "base_uri": "https://localhost:8080/"
        },
        "outputId": "cdbc96b5-c428-4394-fc0b-f585d8856ced"
      },
      "execution_count": 25,
      "outputs": [
        {
          "output_type": "stream",
          "name": "stdout",
          "text": [
            "Error: The file source.txt was not found.\n"
          ]
        }
      ]
    },
    {
      "cell_type": "markdown",
      "source": [
        "5. How would you catch and handle division by zero error in Python?"
      ],
      "metadata": {
        "id": "VM4x2FKyvz7f"
      }
    },
    {
      "cell_type": "code",
      "source": [
        "def divide_numbers(num1, num2):\n",
        "    try:\n",
        "        result = num1 / num2  # Attempt to divide num1 by num2\n",
        "        return result\n",
        "    except ZeroDivisionError:\n",
        "        # Handle the case where num2 is zero\n",
        "        print(\"Error: Cannot divide by zero.\")\n",
        "        return None  # Return None or a specific value to indicate an error\n",
        "\n",
        "if __name__ == \"__main__\":\n",
        "    num1 = 10\n",
        "    num2 = 0  # This will cause a division by zero error\n",
        "\n",
        "    result = divide_numbers(num1, num2)\n",
        "    if result is not None:\n",
        "        print(f\"Result: {result}\")\n"
      ],
      "metadata": {
        "id": "5Qfzxks7v1bG",
        "colab": {
          "base_uri": "https://localhost:8080/"
        },
        "outputId": "3cfc42da-fc0b-4b73-b9ba-5589894219f5"
      },
      "execution_count": 24,
      "outputs": [
        {
          "output_type": "stream",
          "name": "stdout",
          "text": [
            "Error: Cannot divide by zero.\n"
          ]
        }
      ]
    },
    {
      "cell_type": "markdown",
      "source": [
        "6. Write a Python program that logs an error message to a log file when a division by zero exception occurs."
      ],
      "metadata": {
        "id": "W7u38igJv344"
      }
    },
    {
      "cell_type": "code",
      "source": [
        "import logging\n",
        "\n",
        "# Set up logging configuration to write logs to a file\n",
        "logging.basicConfig(\n",
        "    filename='error_log.txt',  # Log file where the error will be written\n",
        "    level=logging.ERROR,  # Only log errors and critical issues\n",
        "    format='%(asctime)s - %(levelname)s - %(message)s'  # Log format with timestamp\n",
        ")\n",
        "\n",
        "def divide_numbers(num1, num2):\n",
        "    try:\n",
        "        result = num1 / num2  # This will raise ZeroDivisionError if num2 is 0\n",
        "        return result\n",
        "    except ZeroDivisionError as e:\n",
        "        # Log the error message to the file\n",
        "        logging.error(f\"Division by zero error: {e} while trying to divide {num1} by {num2}\")\n",
        "        print(\"Error: Cannot divide by zero.\")\n",
        "\n",
        "if __name__ == \"__main__\":\n",
        "    num1 = 10\n",
        "    num2 = 0  # This will cause a division by zero error\n",
        "\n",
        "    divide_numbers(num1, num2)"
      ],
      "metadata": {
        "id": "rkJDPmUCv5M2",
        "colab": {
          "base_uri": "https://localhost:8080/"
        },
        "outputId": "e34901df-1136-4df8-aba5-08dda677480b"
      },
      "execution_count": 23,
      "outputs": [
        {
          "output_type": "stream",
          "name": "stderr",
          "text": [
            "ERROR:root:Division by zero error: division by zero while trying to divide 10 by 0\n"
          ]
        },
        {
          "output_type": "stream",
          "name": "stdout",
          "text": [
            "Error: Cannot divide by zero.\n"
          ]
        }
      ]
    },
    {
      "cell_type": "markdown",
      "source": [
        "7.  How do you log information at different levels (INFO, ERROR, WARNING) in Python using the logging module?"
      ],
      "metadata": {
        "id": "71CFNEw2v8Ph"
      }
    },
    {
      "cell_type": "code",
      "source": [
        "import logging\n",
        "\n",
        "# Set up logging configuration\n",
        "logging.basicConfig(\n",
        "    level=logging.DEBUG,  # Set the minimum logging level to DEBUG (captures all levels)\n",
        "    format='%(asctime)s - %(levelname)s - %(message)s',  # Format for the logs\n",
        "    handlers=[logging.StreamHandler()]  # Output to console\n",
        ")\n",
        "\n",
        "# Logging at different levels\n",
        "logging.debug(\"This is a debug message.\")\n",
        "logging.info(\"This is an informational message.\")\n",
        "logging.warning(\"This is a warning message.\")\n",
        "logging.error(\"This is an error message.\")\n",
        "logging.critical(\"This is a critical message.\")"
      ],
      "metadata": {
        "id": "lo3uT-obv-tf",
        "colab": {
          "base_uri": "https://localhost:8080/"
        },
        "outputId": "877c5cc1-c1c2-442f-9ea5-2df0c0efb857"
      },
      "execution_count": 22,
      "outputs": [
        {
          "output_type": "stream",
          "name": "stderr",
          "text": [
            "INFO:root:This is an informational message.\n",
            "WARNING:root:This is a warning message.\n",
            "ERROR:root:This is an error message.\n",
            "CRITICAL:root:This is a critical message.\n"
          ]
        }
      ]
    },
    {
      "cell_type": "markdown",
      "source": [
        "8.  Write a program to handle a file opening error using exception handling."
      ],
      "metadata": {
        "id": "rWGv40hKwA_c"
      }
    },
    {
      "cell_type": "code",
      "source": [
        "def open_file(file_name):\n",
        "    try:\n",
        "        # Attempt to open the file\n",
        "        with open(file_name, 'r') as file:\n",
        "            content = file.read()\n",
        "            print(\"File content:\")\n",
        "            print(content)\n",
        "    except FileNotFoundError:\n",
        "        # Handle the case when the file does not exist\n",
        "        print(f\"Error: The file '{file_name}' was not found.\")\n",
        "    except IOError:\n",
        "        # Handle other I/O errors (like permission errors)\n",
        "        print(f\"Error: An I/O error occurred while trying to open the file '{file_name}'.\")\n",
        "    except Exception as e:\n",
        "        # Handle any other unexpected errors\n",
        "        print(f\"An unexpected error occurred: {e}\")\n",
        "\n",
        "# Example usage\n",
        "if __name__ == \"__main__\":\n",
        "    file_name = 'example.txt'  # Change this to a non-existent file to test\n",
        "    open_file(file_name)"
      ],
      "metadata": {
        "id": "M-QKRyCGwC3w",
        "colab": {
          "base_uri": "https://localhost:8080/"
        },
        "outputId": "6f52f72e-1780-4993-f600-02626c5bacee"
      },
      "execution_count": 21,
      "outputs": [
        {
          "output_type": "stream",
          "name": "stdout",
          "text": [
            "File content:\n",
            "Hello, world!\n",
            "This is a new line appended to the file.\n"
          ]
        }
      ]
    },
    {
      "cell_type": "markdown",
      "source": [
        "9. How can you read a file line by line and store its content in a list in Python?"
      ],
      "metadata": {
        "id": "b1FVgn-xwE4J"
      }
    },
    {
      "cell_type": "code",
      "source": [
        "with open('example.txt', 'r') as file:\n",
        "    lines = file.readlines()\n",
        "\n",
        "print(lines)\n",
        "\n",
        "lines = []\n",
        "with open('example.txt', 'r') as file:\n",
        "    for line in file:\n",
        "        lines.append(line.strip())  # `strip()` removes any leading/trailing whitespace\n",
        "\n",
        "print(lines)\n"
      ],
      "metadata": {
        "id": "mMzJUTDywGyG",
        "colab": {
          "base_uri": "https://localhost:8080/"
        },
        "outputId": "6e7847c8-7586-4746-c35c-bf5b61ae7760"
      },
      "execution_count": 20,
      "outputs": [
        {
          "output_type": "stream",
          "name": "stdout",
          "text": [
            "['Hello, world!\\n', 'This is a new line appended to the file.']\n",
            "['Hello, world!', 'This is a new line appended to the file.']\n"
          ]
        }
      ]
    },
    {
      "cell_type": "markdown",
      "source": [
        "10. How can you append data to an existing file in Python?"
      ],
      "metadata": {
        "id": "-Z9xvbiNwLXB"
      }
    },
    {
      "cell_type": "code",
      "source": [
        "# Open the file in append mode\n",
        "with open('example.txt', 'a') as file:\n",
        "    # Append some new data to the file\n",
        "    file.write(\"\\nThis is a new line appended to the file.\")\n",
        "\n",
        "print(\"Data has been appended to the file.\")"
      ],
      "metadata": {
        "id": "o0fNFMmXwNpj",
        "colab": {
          "base_uri": "https://localhost:8080/"
        },
        "outputId": "3d95ffcf-6833-488a-b0ac-ee298a10321b"
      },
      "execution_count": 19,
      "outputs": [
        {
          "output_type": "stream",
          "name": "stdout",
          "text": [
            "Data has been appended to the file.\n"
          ]
        }
      ]
    },
    {
      "cell_type": "markdown",
      "source": [
        "11. Write a Python program that uses a try-except block to handle an error when attempting to access a\n",
        "dictionary key that doesn't exist."
      ],
      "metadata": {
        "id": "8BlIbUWBwOXK"
      }
    },
    {
      "cell_type": "code",
      "source": [
        "def access_dict_key():\n",
        "    my_dict = {'name': 'Alice', 'age': 30}\n",
        "\n",
        "    try:\n",
        "        # Attempt to access a key that doesn't exist in the dictionary\n",
        "        print(my_dict['address'])\n",
        "    except KeyError as e:\n",
        "        # Handle the error if the key doesn't exist\n",
        "        print(f\"Error: The key '{e}' does not exist in the dictionary.\")\n",
        "\n",
        "if __name__ == \"__main__\":\n",
        "    access_dict_key()"
      ],
      "metadata": {
        "id": "6Yj0KFYiwSjt",
        "colab": {
          "base_uri": "https://localhost:8080/"
        },
        "outputId": "21ea8a29-8160-4ebc-86d1-2667b52c4969"
      },
      "execution_count": 18,
      "outputs": [
        {
          "output_type": "stream",
          "name": "stdout",
          "text": [
            "Error: The key ''address'' does not exist in the dictionary.\n"
          ]
        }
      ]
    },
    {
      "cell_type": "markdown",
      "source": [
        "12. Write a program that demonstrates using multiple except blocks to handle different types of exceptions."
      ],
      "metadata": {
        "id": "pWy0D4fGwUuz"
      }
    },
    {
      "cell_type": "code",
      "source": [
        "def demo_multiple_exceptions():\n",
        "    try:\n",
        "        # Try dividing by zero to raise a ZeroDivisionError\n",
        "        num1 = 10\n",
        "        num2 = 0\n",
        "        result = num1 / num2\n",
        "        print(f\"Result: {result}\")\n",
        "\n",
        "        # Try opening a non-existent file to raise a FileNotFoundError\n",
        "        with open('non_existent_file.txt', 'r') as file:\n",
        "            content = file.read()\n",
        "\n",
        "    except ZeroDivisionError as e:\n",
        "        print(f\"Error: Cannot divide by zero! ({e})\")\n",
        "    except FileNotFoundError as e:\n",
        "        print(f\"Error: File not found! ({e})\")\n",
        "    except Exception as e:\n",
        "        print(f\"An unexpected error occurred: {e}\")\n",
        "\n",
        "if __name__ == \"__main__\":\n",
        "    demo_multiple_exceptions()"
      ],
      "metadata": {
        "id": "DJPGGY0pwWE3",
        "colab": {
          "base_uri": "https://localhost:8080/"
        },
        "outputId": "76f771a3-41a7-4200-8c75-ca1c484ef465"
      },
      "execution_count": 17,
      "outputs": [
        {
          "output_type": "stream",
          "name": "stdout",
          "text": [
            "Error: Cannot divide by zero! (division by zero)\n"
          ]
        }
      ]
    },
    {
      "cell_type": "markdown",
      "source": [
        "13.  How would you check if a file exists before attempting to read it in Python?"
      ],
      "metadata": {
        "id": "q4RgI69CwZnA"
      }
    },
    {
      "cell_type": "code",
      "source": [
        "from pathlib import Path\n",
        "\n",
        "file_path = Path('example.txt')\n",
        "\n",
        "if file_path.exists():\n",
        "    with open(file_path, 'r') as file:\n",
        "        content = file.read()\n",
        "        print(content)\n",
        "else:\n",
        "    print(f\"The file {file_path} does not exist.\")\n"
      ],
      "metadata": {
        "id": "xKMaCcEtwa4h",
        "colab": {
          "base_uri": "https://localhost:8080/"
        },
        "outputId": "9631a82b-e2ff-4cda-9d19-ffec1939c04c"
      },
      "execution_count": 16,
      "outputs": [
        {
          "output_type": "stream",
          "name": "stdout",
          "text": [
            "Hello, world!\n"
          ]
        }
      ]
    },
    {
      "cell_type": "markdown",
      "source": [
        "14. Write a program that uses the logging module to log both informational and error messages."
      ],
      "metadata": {
        "id": "hWXk_yBBwenC"
      }
    },
    {
      "cell_type": "code",
      "source": [
        "import logging\n",
        "\n",
        "# Set up logging configuration\n",
        "logging.basicConfig(\n",
        "    level=logging.DEBUG,  # Set the minimum logging level to DEBUG\n",
        "    format='%(asctime)s - %(levelname)s - %(message)s',  # Log format\n",
        "    handlers=[\n",
        "        logging.StreamHandler()  # Output to console\n",
        "    ]\n",
        ")\n",
        "\n",
        "# Function to demonstrate logging\n",
        "def demo_logging():\n",
        "    logging.debug(\"This is a debug message.\")\n",
        "    logging.info(\"This is an informational message.\")\n",
        "    logging.warning(\"This is a warning message.\")\n",
        "    logging.error(\"This is an error message.\")\n",
        "    logging.critical(\"This is a critical message.\")\n",
        "\n",
        "if __name__ == \"__main__\":\n",
        "    demo_logging()"
      ],
      "metadata": {
        "id": "9mzuOEXawgbY",
        "colab": {
          "base_uri": "https://localhost:8080/"
        },
        "outputId": "2028b686-3bdb-4744-93c8-8920dbb3fca0"
      },
      "execution_count": 15,
      "outputs": [
        {
          "output_type": "stream",
          "name": "stderr",
          "text": [
            "INFO:root:This is an informational message.\n",
            "WARNING:root:This is a warning message.\n",
            "ERROR:root:This is an error message.\n",
            "CRITICAL:root:This is a critical message.\n"
          ]
        }
      ]
    },
    {
      "cell_type": "markdown",
      "source": [
        "15. Write a Python program that prints the content of a file and handles the case when the file is empty."
      ],
      "metadata": {
        "id": "k3eZAsHjwpih"
      }
    },
    {
      "cell_type": "code",
      "source": [
        "def print_file_content(file_path):\n",
        "    try:\n",
        "        # Open the file in read mode\n",
        "        with open(file_path, 'r') as file:\n",
        "            content = file.read()\n",
        "\n",
        "            # Check if the file is empty\n",
        "            if not content:\n",
        "                print(\"The file is empty.\")\n",
        "            else:\n",
        "                print(\"File content:\")\n",
        "                print(content)\n",
        "    except FileNotFoundError:\n",
        "        print(f\"Error: The file at {file_path} was not found.\")\n",
        "    except Exception as e:\n",
        "        print(f\"An error occurred: {e}\")\n",
        "\n",
        "# Example usage:\n",
        "file_path = 'your_file.txt'  # Replace with the path to your file\n",
        "print_file_content(file_path)"
      ],
      "metadata": {
        "id": "E-yCXuLQwrmH",
        "colab": {
          "base_uri": "https://localhost:8080/"
        },
        "outputId": "968a2e87-05fa-4314-b4ef-0f7f9d3c4115"
      },
      "execution_count": 13,
      "outputs": [
        {
          "output_type": "stream",
          "name": "stdout",
          "text": [
            "Error: The file at your_file.txt was not found.\n"
          ]
        }
      ]
    },
    {
      "cell_type": "markdown",
      "source": [
        "16. Demonstrate how to use memory profiling to check the memory usage of a small program."
      ],
      "metadata": {
        "id": "J-aFvKPvwtnw"
      }
    },
    {
      "cell_type": "code",
      "source": [
        "import sys\n",
        "import resource\n",
        "\n",
        "def memory_usage():\n",
        "    usage = resource.getrusage(resource.RUSAGE_SELF)\n",
        "    return usage.ru_maxrss\n",
        "\n",
        "def my_function():\n",
        "    a = [i for i in range(10000)]\n",
        "    b = [i**2 for i in range(10000)]\n",
        "    return a, b\n",
        "\n",
        "if __name__ == '__main__':\n",
        "    print(f\"Memory usage before function call: {memory_usage()} KB\")\n",
        "    my_function()\n",
        "    print(f\"Memory usage after function call: {memory_usage()} KB\")"
      ],
      "metadata": {
        "id": "2X6kP6uXwvTy",
        "colab": {
          "base_uri": "https://localhost:8080/"
        },
        "outputId": "c38c88b2-9a54-459d-9d60-8dda5ad0672a"
      },
      "execution_count": 14,
      "outputs": [
        {
          "output_type": "stream",
          "name": "stdout",
          "text": [
            "Memory usage before function call: 127200 KB\n",
            "Memory usage after function call: 127728 KB\n"
          ]
        }
      ]
    },
    {
      "cell_type": "markdown",
      "source": [
        "17. Write a Python program to create and write a list of numbers to a file, one number per line?"
      ],
      "metadata": {
        "id": "I88YJcPtwwid"
      }
    },
    {
      "cell_type": "code",
      "source": [
        "# Define the list of numbers\n",
        "numbers = [1, 2, 3, 4, 5, 6, 7, 8, 9, 10]\n",
        "\n",
        "# Open the file in write mode\n",
        "with open(\"numbers.txt\", \"w\") as file:\n",
        "    # Write each number to the file, one per line\n",
        "    for number in numbers:\n",
        "        file.write(f\"{number}\\n\")\n",
        "\n",
        "print(\"Numbers have been written to numbers.txt.\")"
      ],
      "metadata": {
        "id": "Kli-hwlFw1Hy",
        "colab": {
          "base_uri": "https://localhost:8080/"
        },
        "outputId": "922471d6-a5c3-46d1-b202-be14881567ad"
      },
      "execution_count": 11,
      "outputs": [
        {
          "output_type": "stream",
          "name": "stdout",
          "text": [
            "Numbers have been written to numbers.txt.\n"
          ]
        }
      ]
    },
    {
      "cell_type": "markdown",
      "source": [
        "18. How would you implement a basic logging setup that logs to a file with rotation after 1MB?"
      ],
      "metadata": {
        "id": "vzA4cItew3fQ"
      }
    },
    {
      "cell_type": "code",
      "source": [
        "import logging\n",
        "from logging.handlers import RotatingFileHandler\n",
        "\n",
        "# Set up the logging configuration\n",
        "log_file = \"app.log\"\n",
        "\n",
        "# Create a RotatingFileHandler\n",
        "handler = RotatingFileHandler(log_file, maxBytes=1_000_000, backupCount=5)  # 1MB size, keep 5 backups\n",
        "handler.setLevel(logging.INFO)\n",
        "\n",
        "# Create a logging formatter\n",
        "formatter = logging.Formatter('%(asctime)s - %(levelname)s - %(message)s')\n",
        "handler.setFormatter(formatter)\n",
        "\n",
        "# Configure the logger\n",
        "logger = logging.getLogger()\n",
        "logger.setLevel(logging.INFO)\n",
        "logger.addHandler(handler)\n",
        "\n",
        "# Example logging\n",
        "logger.info(\"This is a test log message.\")\n",
        "logger.error(\"An error occurred.\")"
      ],
      "metadata": {
        "id": "ao4cyO6Dw5tX",
        "colab": {
          "base_uri": "https://localhost:8080/"
        },
        "outputId": "cbd8ffb2-c773-45d7-b01e-5580717d750e"
      },
      "execution_count": 10,
      "outputs": [
        {
          "output_type": "stream",
          "name": "stderr",
          "text": [
            "INFO:root:This is a test log message.\n",
            "ERROR:root:An error occurred.\n"
          ]
        }
      ]
    },
    {
      "cell_type": "markdown",
      "source": [
        "19.  Write a program that handles both IndexError and KeyError using a try-except block."
      ],
      "metadata": {
        "id": "EQFj8lzAw8xj"
      }
    },
    {
      "cell_type": "code",
      "source": [
        "try:\n",
        "    # Code that may raise an IndexError\n",
        "    my_list = [1, 2, 3]\n",
        "    print(my_list[5])  # This will raise an IndexError\n",
        "\n",
        "    # Code that may raise a KeyError\n",
        "    my_dict = {\"a\": 1, \"b\": 2}\n",
        "    print(my_dict[\"c\"])  # This will raise a KeyError\n",
        "\n",
        "except IndexError as e:\n",
        "    print(f\"IndexError caught: {e}\")\n",
        "\n",
        "except KeyError as e:\n",
        "    print(f\"KeyError caught: {e}\")\n"
      ],
      "metadata": {
        "id": "zMAsgoMEw-Vq",
        "colab": {
          "base_uri": "https://localhost:8080/"
        },
        "outputId": "2544bbd8-8ee4-48b2-8732-3dce36036ebf"
      },
      "execution_count": 9,
      "outputs": [
        {
          "output_type": "stream",
          "name": "stdout",
          "text": [
            "IndexError caught: list index out of range\n"
          ]
        }
      ]
    },
    {
      "cell_type": "markdown",
      "source": [
        "20. How would you open a file and read its contents using a context manager in Python?"
      ],
      "metadata": {
        "id": "xMOSScU3w-5P"
      }
    },
    {
      "cell_type": "code",
      "source": [
        "# Open the file using a context manager and read its contents\n",
        "with open(\"example.txt\", \"r\") as file:\n",
        "    # Read the entire content of the file\n",
        "    content = file.read()\n",
        "    print(content)\n"
      ],
      "metadata": {
        "id": "_3oAZsRSxCCM",
        "colab": {
          "base_uri": "https://localhost:8080/"
        },
        "outputId": "19a7c4c4-5c1a-4744-a4ac-84cd88f4cc28"
      },
      "execution_count": 8,
      "outputs": [
        {
          "output_type": "stream",
          "name": "stdout",
          "text": [
            "Hello, world!\n"
          ]
        }
      ]
    },
    {
      "cell_type": "markdown",
      "source": [
        "21.  Write a Python program that reads a file and prints the number of occurrences of a specific word."
      ],
      "metadata": {
        "id": "vE0Kl49pxEky"
      }
    },
    {
      "cell_type": "code",
      "source": [
        "# Function to count word occurrences in a file\n",
        "def count_word_occurrences(file_path, word):\n",
        "    try:\n",
        "        with open(file_path, \"r\") as file:\n",
        "            # Read the file contents\n",
        "            content = file.read().lower()\n",
        "            # Count occurrences of the word\n",
        "            return content.split().count(word.lower())\n",
        "    except FileNotFoundError:\n",
        "        print(\"Error: The file does not exist.\")\n",
        "        return 0\n",
        "\n",
        "# File path and word to count\n",
        "file_path = \"example.txt\"\n",
        "word_to_count = \"python\"\n",
        "\n",
        "# Count and display occurrences\n",
        "occurrences = count_word_occurrences(file_path, word_to_count)\n",
        "print(f\"The word '{word_to_count}' occurs {occurrences} times in the file.\")\n"
      ],
      "metadata": {
        "id": "MNKZH7EFxF-S",
        "colab": {
          "base_uri": "https://localhost:8080/"
        },
        "outputId": "c149b289-1223-45ca-fd3d-0b2cf72e14ff"
      },
      "execution_count": 7,
      "outputs": [
        {
          "output_type": "stream",
          "name": "stdout",
          "text": [
            "The word 'python' occurs 0 times in the file.\n"
          ]
        }
      ]
    },
    {
      "cell_type": "markdown",
      "source": [
        "22. How can you check if a file is empty before attempting to read its contents?"
      ],
      "metadata": {
        "id": "gFYpUUx2xIyU"
      }
    },
    {
      "cell_type": "code",
      "source": [
        "import os\n",
        "\n",
        "# Path to the file\n",
        "file_path = \"example.txt\"\n",
        "\n",
        "# Check if the file exists and is not empty\n",
        "if os.path.exists(file_path) and os.path.getsize(file_path) > 0:\n",
        "    with open(file_path, \"r\") as file:\n",
        "        print(file.read())\n",
        "else:\n",
        "    print(\"The file is empty or does not exist.\")\n"
      ],
      "metadata": {
        "id": "hdeTNXm_xKDJ",
        "colab": {
          "base_uri": "https://localhost:8080/"
        },
        "outputId": "0dbb2770-8002-4e34-9ebb-b54eb829f097"
      },
      "execution_count": 6,
      "outputs": [
        {
          "output_type": "stream",
          "name": "stdout",
          "text": [
            "Hello, world!\n"
          ]
        }
      ]
    },
    {
      "cell_type": "markdown",
      "source": [
        "23.  Write a Python program that writes to a log file when an error occurs during file handling."
      ],
      "metadata": {
        "id": "VuALWSPmxMy2"
      }
    },
    {
      "cell_type": "code",
      "source": [
        "import logging\n",
        "\n",
        "# Configure logging\n",
        "logging.basicConfig(filename=\"error.log\", level=logging.ERROR, format=\"%(asctime)s - %(levelname)s - %(message)s\")\n",
        "\n",
        "try:\n",
        "    # Try to open a non-existent file for reading\n",
        "    with open(\"nonexistent_file.txt\", \"r\") as file:\n",
        "        content = file.read()\n",
        "except FileNotFoundError as e:\n",
        "    logging.error(f\"FileNotFoundError: {e}\")\n",
        "    print(\"An error occurred. Check 'error.log' for details.\")\n",
        "except Exception as e:\n",
        "    logging.error(f\"Unexpected error: {e}\")\n",
        "    print(\"An unexpected error occurred. Check 'error.log' for details.\")\n"
      ],
      "metadata": {
        "id": "gS8b_9A6xOGb",
        "colab": {
          "base_uri": "https://localhost:8080/"
        },
        "outputId": "3896ad06-32a4-45a1-a565-bfe48833f097"
      },
      "execution_count": 5,
      "outputs": [
        {
          "output_type": "stream",
          "name": "stderr",
          "text": [
            "ERROR:root:FileNotFoundError: [Errno 2] No such file or directory: 'nonexistent_file.txt'\n"
          ]
        },
        {
          "output_type": "stream",
          "name": "stdout",
          "text": [
            "An error occurred. Check 'error.log' for details.\n"
          ]
        }
      ]
    }
  ]
}